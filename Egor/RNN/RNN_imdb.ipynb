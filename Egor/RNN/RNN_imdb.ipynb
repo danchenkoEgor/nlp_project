{
 "cells": [
  {
   "cell_type": "code",
   "execution_count": 113,
   "metadata": {},
   "outputs": [],
   "source": [
    "import os\n",
    "import numpy as np\n",
    "import pandas as pd\n",
    "\n",
    "import matplotlib.pyplot as plt\n",
    "from tqdm.notebook import tqdm\n",
    "\n",
    "import re\n",
    "import string\n",
    "from collections import Counter\n",
    "from nltk.corpus import stopwords\n",
    "stop_words = set(stopwords.words('english'))\n",
    "\n",
    "from sklearn.model_selection import train_test_split\n",
    "\n",
    "import torch\n",
    "from torch.utils.data import DataLoader, TensorDataset\n",
    "import torch.nn as nn\n",
    "import torchutils as tu\n",
    "from torchmetrics.classification import BinaryAccuracy\n",
    "from rnn_preprocessing import data_preprocessing, get_words_by_freq, padding, preprocess_single_string"
   ]
  },
  {
   "cell_type": "code",
   "execution_count": 114,
   "metadata": {},
   "outputs": [],
   "source": [
    "from joblib import load\n",
    "vocab_to_int = load('./vocab.joblib')"
   ]
  },
  {
   "cell_type": "code",
   "execution_count": 115,
   "metadata": {},
   "outputs": [],
   "source": [
    "sentence = 'this film could be better but still ok'\n",
    "sentence = preprocess_single_string(sentence, 256, vocab_to_int)"
   ]
  },
  {
   "cell_type": "code",
   "execution_count": 117,
   "metadata": {},
   "outputs": [
    {
     "data": {
      "text/plain": [
       "torch.Size([256])"
      ]
     },
     "execution_count": 117,
     "metadata": {},
     "output_type": "execute_result"
    }
   ],
   "source": [
    "sentence.shape"
   ]
  },
  {
   "cell_type": "code",
   "execution_count": 118,
   "metadata": {},
   "outputs": [],
   "source": [
    "EMBEDDING_DIM = 64\n",
    "HIDDEN_DIM = 64\n",
    "N_LAYERS = 2\n",
    "SEQ_LEN = 256\n",
    "VOCAB_SIZE = len(vocab_to_int)+1 "
   ]
  },
  {
   "cell_type": "code",
   "execution_count": 119,
   "metadata": {},
   "outputs": [
    {
     "data": {
      "text/plain": [
       "'cuda'"
      ]
     },
     "execution_count": 119,
     "metadata": {},
     "output_type": "execute_result"
    }
   ],
   "source": [
    "device= 'cuda' if torch.cuda.is_available() else 'cpu'\n",
    "device"
   ]
  },
  {
   "cell_type": "code",
   "execution_count": 120,
   "metadata": {},
   "outputs": [],
   "source": [
    "class RNNNet(nn.Module):    \n",
    "    '''\n",
    "    vocab_size: int, размер словаря (аргумент embedding-слоя)\n",
    "    emb_size:   int, размер вектора для описания каждого элемента последовательности\n",
    "    hidden_dim: int, размер вектора скрытого состояния\n",
    "    batch_size: int, размер batch'а\n",
    "\n",
    "    '''\n",
    "    \n",
    "    def __init__(self, \n",
    "                 vocab_size: int, \n",
    "                 emb_size: int, \n",
    "                 hidden_dim: int, \n",
    "                 seq_len: int, \n",
    "                 n_layers: int = 1) -> None:\n",
    "        super().__init__()\n",
    "        \n",
    "        self.seq_len  = seq_len \n",
    "        self.emb_size = emb_size \n",
    "        self.hidden_dim = hidden_dim\n",
    "        self.n_layers = n_layers\n",
    "\n",
    "        self.embedding = nn.Embedding(vocab_size, self.emb_size)\n",
    "        self.rnn_cell  = nn.RNN(self.emb_size, self.hidden_dim, batch_first=True, num_layers=n_layers, bidirectional=True)\n",
    "        self.linear    = nn.Sequential(\n",
    "            nn.Dropout(),\n",
    "            nn.Linear(self.hidden_dim * self.seq_len*2, 256),\n",
    "            nn.Dropout(),\n",
    "            nn.Linear(256, 1)\n",
    "        )\n",
    "\n",
    "    def forward(self, x: torch.Tensor) -> torch.Tensor:\n",
    "\n",
    "        x = self.embedding(x.to(device))\n",
    "        output, _ = self.rnn_cell(x)\n",
    "\n",
    "        output = output.contiguous().view(output.size(0), -1)\n",
    "        out = self.linear(output.squeeze(0))\n",
    "        return out"
   ]
  },
  {
   "cell_type": "code",
   "execution_count": 121,
   "metadata": {},
   "outputs": [
    {
     "data": {
      "text/plain": [
       "<All keys matched successfully>"
      ]
     },
     "execution_count": 121,
     "metadata": {},
     "output_type": "execute_result"
    }
   ],
   "source": [
    "model = RNNNet(VOCAB_SIZE, EMBEDDING_DIM, HIDDEN_DIM, SEQ_LEN, N_LAYERS)\n",
    "\n",
    "model.load_state_dict(torch.load('./rnn_model_epoch_2.pt'))"
   ]
  },
  {
   "cell_type": "code",
   "execution_count": 123,
   "metadata": {},
   "outputs": [],
   "source": [
    "text = \"\"\"This movie is a real gem. It is hard to find fault with it. Hanks is excellent in a role that clearly calls for him to suppress his natural slant toward humor. He is Paul Edgecomb; Tom Hanks is nowhere to be found. Yet he gives Edgecomb just the right flavor. One cannot find a single weak cast member! Michael Jeter should have got an Oscar. Michael Clark Duncan put just the right shading on his huge character to make him vulnerable and sympathetic.\n",
    "\n",
    "Flawlessly shot on perfect period sets, the whole production binds together to bring the extraordinary story into the realm of a believable and compelling study of human injustice and charity.\"\"\"\n",
    "reviews_int = [vocab_to_int[word] for word in text.split() if vocab_to_int.get(word)]\n",
    "features = padding([reviews_int], SEQ_LEN)\n",
    "features = torch.tensor(features)"
   ]
  },
  {
   "cell_type": "code",
   "execution_count": 124,
   "metadata": {},
   "outputs": [
    {
     "data": {
      "text/plain": [
       "tensor([0.9783], device='cuda:0', grad_fn=<SigmoidBackward0>)"
      ]
     },
     "execution_count": 124,
     "metadata": {},
     "output_type": "execute_result"
    }
   ],
   "source": [
    "model.eval()\n",
    "model.to(device)\n",
    "m = nn.Sigmoid()\n",
    "m(model(features.to(device)))"
   ]
  },
  {
   "cell_type": "code",
   "execution_count": null,
   "metadata": {},
   "outputs": [],
   "source": []
  }
 ],
 "metadata": {
  "kernelspec": {
   "display_name": "pytorch_env",
   "language": "python",
   "name": "python3"
  },
  "language_info": {
   "codemirror_mode": {
    "name": "ipython",
    "version": 3
   },
   "file_extension": ".py",
   "mimetype": "text/x-python",
   "name": "python",
   "nbconvert_exporter": "python",
   "pygments_lexer": "ipython3",
   "version": "3.9.16"
  },
  "orig_nbformat": 4
 },
 "nbformat": 4,
 "nbformat_minor": 2
}
